{
 "cells": [
  {
   "attachments": {},
   "cell_type": "markdown",
   "metadata": {},
   "source": [
    "Scientific Computing Coursework EMAT30008"
   ]
  },
  {
   "cell_type": "code",
   "execution_count": 7,
   "metadata": {},
   "outputs": [
    {
     "ename": "ImportError",
     "evalue": "cannot import name 'error_difference' from 'ODEsolver' (c:\\Users\\smith\\OneDrive\\Documents\\Eng Maths Yr 3\\Scientific Computing\\EMAT30008\\ODEsolver.py)",
     "output_type": "error",
     "traceback": [
      "\u001b[1;31m---------------------------------------------------------------------------\u001b[0m",
      "\u001b[1;31mImportError\u001b[0m                               Traceback (most recent call last)",
      "Cell \u001b[1;32mIn[7], line 4\u001b[0m\n\u001b[0;32m      2\u001b[0m \u001b[39mimport\u001b[39;00m \u001b[39mmatplotlib\u001b[39;00m\u001b[39m.\u001b[39;00m\u001b[39mpyplot\u001b[39;00m \u001b[39mas\u001b[39;00m \u001b[39mplt\u001b[39;00m\n\u001b[0;32m      3\u001b[0m \u001b[39mfrom\u001b[39;00m \u001b[39mscipy\u001b[39;00m\u001b[39m.\u001b[39;00m\u001b[39mintegrate\u001b[39;00m \u001b[39mimport\u001b[39;00m solve_ivp\n\u001b[1;32m----> 4\u001b[0m \u001b[39mfrom\u001b[39;00m \u001b[39mODEsolver\u001b[39;00m \u001b[39mimport\u001b[39;00m solve_odes, error_difference, func1, true_euler_number\n",
      "\u001b[1;31mImportError\u001b[0m: cannot import name 'error_difference' from 'ODEsolver' (c:\\Users\\smith\\OneDrive\\Documents\\Eng Maths Yr 3\\Scientific Computing\\EMAT30008\\ODEsolver.py)"
     ]
    }
   ],
   "source": [
    "import numpy as np\n",
    "import matplotlib.pyplot as plt\n",
    "from scipy.integrate import solve_ivp\n",
    "from ODEsolver import solve_odes, error_difference, func1, true_euler_number"
   ]
  },
  {
   "attachments": {},
   "cell_type": "markdown",
   "metadata": {},
   "source": [
    "Ordinary Differential Equation solver\n",
    "\n",
    "The purpose of this software is to solve an ordinary differential equation (ODE) or system of ODEs using either the Euler method or the fourth order Runge-Kutta (RK4) method. The script uses three functions to do this, euler_step, RK4_step and solve_odes. The euler_step and RK4_step have the same function, they recieve an ODE as an input coupled with an initial x and time value and return an updated x and time value. The solve_odes function takes the ODE system as an input, along with a starting value of x, a starting time value, a maximum step size and a solver option which is set to RK4 as a default. The solve_odes funciton, calculates the number of steps, and iterates over the steps, implementing either RK4 or euler at each time step and adding the solutions to an array of numerical solutions to the ODE system. The solve_odes also receives an any number of keyword arguments with the use of the optinal keyword arguments **kwargs. I decided to use **kwargs instead of *args as it is convenient to be able to explicitly define the optional inputs to functions. \n",
    "\n",
    "I have also created an errors function which compares the accuracy of the euler and RK4 methods applied to the ODE x. = x (which is the definition of the mathematical constant Eulers number.) I am therefore evaluating the accuracy using the absolute difference between the solution at increasing time step and the true value (np.exp). "
   ]
  },
  {
   "cell_type": "code",
   "execution_count": 4,
   "metadata": {},
   "outputs": [
    {
     "ename": "TypeError",
     "evalue": "object of type 'int' has no len()",
     "output_type": "error",
     "traceback": [
      "\u001b[1;31m---------------------------------------------------------------------------\u001b[0m",
      "\u001b[1;31mTypeError\u001b[0m                                 Traceback (most recent call last)",
      "Cell \u001b[1;32mIn[4], line 6\u001b[0m\n\u001b[0;32m      4\u001b[0m t1 \u001b[39m=\u001b[39m \u001b[39m1\u001b[39m\n\u001b[0;32m      5\u001b[0m h \u001b[39m=\u001b[39m \u001b[39m0.000001\u001b[39m\n\u001b[1;32m----> 6\u001b[0m errors(f, h, x0, t0, t1)\n",
      "File \u001b[1;32mc:\\Users\\smith\\OneDrive\\Documents\\Eng Maths Yr 3\\Scientific Computing\\EMAT30008\\ODEsolver.py:98\u001b[0m, in \u001b[0;36merrors\u001b[1;34m(f, h, x0, t0, t1, **kwargs)\u001b[0m\n\u001b[0;32m     95\u001b[0m dt_max \u001b[39m=\u001b[39m h\n\u001b[0;32m     97\u001b[0m \u001b[39mfor\u001b[39;00m i \u001b[39min\u001b[39;00m \u001b[39mrange\u001b[39m(\u001b[39m1000\u001b[39m):\n\u001b[1;32m---> 98\u001b[0m     ans1 \u001b[39m=\u001b[39m solve_odes(f, x0, t0, t1, dt_max, \u001b[39m'\u001b[39m\u001b[39meuler\u001b[39m\u001b[39m'\u001b[39m, \u001b[39m*\u001b[39m\u001b[39m*\u001b[39mkwargs)[\u001b[39m0\u001b[39m]\n\u001b[0;32m     99\u001b[0m     error1 \u001b[39m=\u001b[39m \u001b[39mabs\u001b[39m(math\u001b[39m.\u001b[39me \u001b[39m-\u001b[39m ans1)\n\u001b[0;32m    100\u001b[0m     errorsEuler\u001b[39m.\u001b[39mappend(error1)\n",
      "File \u001b[1;32mc:\\Users\\smith\\OneDrive\\Documents\\Eng Maths Yr 3\\Scientific Computing\\EMAT30008\\ODEsolver.py:71\u001b[0m, in \u001b[0;36msolve_odes\u001b[1;34m(f, x0, t0, t1, dt_max, solver, **kwargs)\u001b[0m\n\u001b[0;32m     69\u001b[0m x \u001b[39m=\u001b[39m np\u001b[39m.\u001b[39marray(x0)\n\u001b[0;32m     70\u001b[0m n \u001b[39m=\u001b[39m \u001b[39mint\u001b[39m((t1 \u001b[39m-\u001b[39m t0) \u001b[39m/\u001b[39m dt_max)\n\u001b[1;32m---> 71\u001b[0m sol \u001b[39m=\u001b[39m np\u001b[39m.\u001b[39mzeros((n\u001b[39m+\u001b[39m\u001b[39m1\u001b[39m, \u001b[39mlen\u001b[39;49m(x0)))\n\u001b[0;32m     72\u001b[0m sol[\u001b[39m0\u001b[39m] \u001b[39m=\u001b[39m x\n\u001b[0;32m     73\u001b[0m \u001b[39mfor\u001b[39;00m i \u001b[39min\u001b[39;00m \u001b[39mrange\u001b[39m(n):\n",
      "\u001b[1;31mTypeError\u001b[0m: object of type 'int' has no len()"
     ]
    }
   ],
   "source": [
    "pars = 1\n",
    "error_difference(func1, x0=1, t0=0, t1=1, true_function = true_euler_number, pars = pars)"
   ]
  }
 ],
 "metadata": {
  "kernelspec": {
   "display_name": "introtoai",
   "language": "python",
   "name": "python3"
  },
  "language_info": {
   "codemirror_mode": {
    "name": "ipython",
    "version": 3
   },
   "file_extension": ".py",
   "mimetype": "text/x-python",
   "name": "python",
   "nbconvert_exporter": "python",
   "pygments_lexer": "ipython3",
   "version": "3.10.4"
  },
  "orig_nbformat": 4
 },
 "nbformat": 4,
 "nbformat_minor": 2
}
